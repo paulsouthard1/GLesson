{
  "nbformat": 4,
  "nbformat_minor": 0,
  "metadata": {
    "colab": {
      "name": "Template.ipynb",
      "version": "0.3.2",
      "provenance": [],
      "collapsed_sections": [],
      "include_colab_link": true
    },
    "kernelspec": {
      "name": "python3",
      "display_name": "Python 3"
    }
  },
  "cells": [
    {
      "cell_type": "markdown",
      "metadata": {
        "id": "view-in-github",
        "colab_type": "text"
      },
      "source": [
        "<a href=\"https://colab.research.google.com/github/paulsouthard1/GLesson/blob/master/Template.ipynb\" target=\"_parent\"><img src=\"https://colab.research.google.com/assets/colab-badge.svg\" alt=\"Open In Colab\"/></a>"
      ]
    },
    {
      "metadata": {
        "id": "qQ3_ecg7tXaM",
        "colab_type": "text"
      },
      "cell_type": "markdown",
      "source": [
        "**First, build a simple hillslope diffusion model**"
      ]
    },
    {
      "metadata": {
        "id": "82a-IEbGiaT6",
        "colab_type": "code",
        "colab": {}
      },
      "cell_type": "code",
      "source": [
        "# Import necessary modules: numpy and matplotlib.pyplot\n",
        "\n",
        "#Set to inline plotting\n"
      ],
      "execution_count": 0,
      "outputs": []
    },
    {
      "metadata": {
        "id": "dg_O1xqAifjL",
        "colab_type": "code",
        "colab": {}
      },
      "cell_type": "code",
      "source": [
        "# Create model grid: array of x-values\n",
        "x = np.linspace(0,200,21)"
      ],
      "execution_count": 0,
      "outputs": []
    },
    {
      "metadata": {
        "id": "EBiO2LCGikKu",
        "colab_type": "code",
        "colab": {}
      },
      "cell_type": "code",
      "source": [
        "# Create initial elevations\n"
      ],
      "execution_count": 0,
      "outputs": []
    },
    {
      "metadata": {
        "id": "el_5zL74ir3s",
        "colab_type": "code",
        "colab": {}
      },
      "cell_type": "code",
      "source": [
        "# Plot inital elevation profile\n"
      ],
      "execution_count": 0,
      "outputs": []
    },
    {
      "metadata": {
        "id": "GG85iEq1i_3O",
        "colab_type": "code",
        "colab": {}
      },
      "cell_type": "code",
      "source": [
        "# Create function to evolve hillslope, with following inputs\n",
        "# Diffusion Constant\n",
        "k = \n",
        "# Simulation length and timestep\n",
        "t =\n",
        "dt =\n",
        "# Uplift condition\n",
        "u = \n",
        "# Boundary dropdown\n",
        "d = \n",
        "# Define model\n",
        "def evolve():\n",
        "  return z_out"
      ],
      "execution_count": 0,
      "outputs": []
    },
    {
      "metadata": {
        "id": "OYp1HsB8q7aD",
        "colab_type": "code",
        "colab": {}
      },
      "cell_type": "code",
      "source": [
        "# Run model\n"
      ],
      "execution_count": 0,
      "outputs": []
    },
    {
      "metadata": {
        "id": "X5FyE_P-pno9",
        "colab_type": "code",
        "colab": {}
      },
      "cell_type": "code",
      "source": [
        "#Animate your model\n",
        "# Set animation speed\n",
        "speed = 100\n",
        "\n",
        "import matplotlib.animation as animation\n",
        "from IPython.display import HTML\n",
        "\n",
        "# initialization function: plot the background of each frame\n",
        "def init():\n",
        "    line.set_ydata(z_out[0])\n",
        "    return (line,)\n",
        "  \n",
        "# animation function. This is called sequentially\n",
        "def animate(i):\n",
        "    line.set_ydata(z_out[speed*i])\n",
        "    return (line,)\n",
        "\n",
        "# First set up the figure, the axis, and the plot element we want to animate\n",
        "fig, ax = plt.subplots()\n",
        "\n",
        "ax.set_xlim(( 0, np.max(x)))\n",
        "ax.set_ylim((0,np.max(zi)))\n",
        "\n",
        "line, = ax.plot(x, z_out[0])\n",
        "  \n",
        "anim = animation.FuncAnimation(fig, animate, frames = 100,init_func=init,blit=True)\n",
        "\n",
        "HTML(anim.to_html5_video())"
      ],
      "execution_count": 0,
      "outputs": []
    },
    {
      "metadata": {
        "id": "pkOKhELPtcAr",
        "colab_type": "text"
      },
      "cell_type": "markdown",
      "source": [
        "**Now, add in a column of regolith**"
      ]
    },
    {
      "metadata": {
        "id": "USkIeYH2tg2Z",
        "colab_type": "code",
        "colab": {}
      },
      "cell_type": "code",
      "source": [
        "# Create an array defining the initial elevation of the top of the bedrock/bottom of the regolith\n"
      ],
      "execution_count": 0,
      "outputs": []
    },
    {
      "metadata": {
        "id": "sHtAv77mtsmE",
        "colab_type": "code",
        "colab": {}
      },
      "cell_type": "code",
      "source": [
        "# Add regolith weathering into evolution function\n",
        "# Diffusion Constant\n",
        "k = \n",
        "# Simulation length and timestep\n",
        "t =\n",
        "dt =\n",
        "# Uplift condition\n",
        "u = \n",
        "# Boundary dropdown\n",
        "d = \n",
        "# Production rate constants\n",
        "aw = \n",
        "bw = \n",
        "# Define model\n",
        "def evolve():\n",
        "  return z_out,w_out"
      ],
      "execution_count": 0,
      "outputs": []
    },
    {
      "metadata": {
        "id": "JevKJe6RHil5",
        "colab_type": "code",
        "colab": {}
      },
      "cell_type": "code",
      "source": [
        "#Animate your model\n",
        "# Set animation speed\n",
        "speed = 100\n",
        "\n",
        "import matplotlib.animation as animation\n",
        "from IPython.display import HTML\n",
        "\n",
        "# initialization function: plot the background of each frame\n",
        "def init():\n",
        "    line.set_ydata(z_out[0])\n",
        "    line2.set_ydata(w_out[0])\n",
        "    return (line,line2,)\n",
        "  \n",
        "# animation function. This is called sequentially\n",
        "def animate(i):\n",
        "    line.set_ydata(z_out[speed*i])\n",
        "    line2.set_ydata(w_out[speed*i])\n",
        "    return (line,line2,)\n",
        "\n",
        "# First set up the figure, the axis, and the plot element we want to animate\n",
        "fig, ax = plt.subplots()\n",
        "\n",
        "ax.set_xlim(( 0, np.max(x)))\n",
        "ax.set_ylim((0,np.max(zi)))\n",
        "\n",
        "line, = ax.plot(x, z_out[0])\n",
        "line2, = ax.plot(x,w_out[0])\n",
        "  \n",
        "anim = animation.FuncAnimation(fig, animate, frames = 100,init_func=init,blit=True)\n",
        "\n",
        "HTML(anim.to_html5_video())"
      ],
      "execution_count": 0,
      "outputs": []
    }
  ]
}